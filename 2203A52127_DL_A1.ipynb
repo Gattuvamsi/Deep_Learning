{
  "nbformat": 4,
  "nbformat_minor": 0,
  "metadata": {
    "colab": {
      "provenance": [],
      "authorship_tag": "ABX9TyMR1qZ6jWfhFfMRsNtCX7I0",
      "include_colab_link": true
    },
    "kernelspec": {
      "name": "python3",
      "display_name": "Python 3"
    },
    "language_info": {
      "name": "python"
    }
  },
  "cells": [
    {
      "cell_type": "markdown",
      "metadata": {
        "id": "view-in-github",
        "colab_type": "text"
      },
      "source": [
        "<a href=\"https://colab.research.google.com/github/Gattuvamsi/Deep_Learning/blob/main/2203A52127_DL_A1.ipynb\" target=\"_parent\"><img src=\"https://colab.research.google.com/assets/colab-badge.svg\" alt=\"Open In Colab\"/></a>"
      ]
    },
    {
      "cell_type": "code",
      "execution_count": null,
      "metadata": {
        "colab": {
          "base_uri": "https://localhost:8080/"
        },
        "id": "bLYJEjB2Ea_n",
        "outputId": "5aaf5245-12a4-45b4-d3c7-040c0523febd"
      },
      "outputs": [
        {
          "output_type": "stream",
          "name": "stdout",
          "text": [
            "Mean Absolute Error (MAE): 0.4600000000000016\n",
            "Mean Squared Error (MSE): 0.24600000000000147\n",
            "Root Mean Squared Error (RMSE): 0.49598387070549127\n"
          ]
        }
      ],
      "source": [
        "#withou using libraries\n",
        "Y_actual = [20, 30, 40, 50, 60]\n",
        "Y_pred = [20.5, 30.3, 40.2, 50.6, 60.7]\n",
        "\n",
        "\n",
        "def calculate_error_metrics(y_actual, y_pred):\n",
        "    n = len(y_actual)\n",
        "    mae = sum(abs(y - y_hat) for y, y_hat in zip(y_actual, y_pred)) / n\n",
        "    mse = sum((y - y_hat) ** 2 for y, y_hat in zip(y_actual, y_pred)) / n\n",
        "    rmse = mse ** 0.5\n",
        "    return mae, mse, rmse\n",
        "\n",
        "\n",
        "mae, mse, rmse = calculate_error_metrics(Y_actual, Y_pred)\n",
        "\n",
        "\n",
        "print(f\"Mean Absolute Error (MAE): {mae}\")\n",
        "print(f\"Mean Squared Error (MSE): {mse}\")\n",
        "print(f\"Root Mean Squared Error (RMSE): {rmse}\")\n"
      ]
    },
    {
      "cell_type": "code",
      "source": [
        "#using libraries\n",
        "import numpy as np\n",
        "from sklearn.metrics import mean_squared_error,mean_absolute_error\n",
        "\n",
        "y_act=[20,30,40,50,60]\n",
        "y_pred=[20.5,30.3,40.2,50.6,60.7]\n",
        "\n",
        "mse=mean_squared_error(y_act,y_pred)\n",
        "rmse=np.sqrt(mse)\n",
        "mae=mean_absolute_error(y_act,y_pred)\n",
        "\n",
        "print(f\"Mean Absolute Error (MAE): {mae}\")\n",
        "print(f\"Mean Squared Error (MSE): {mse}\")\n",
        "print(f\"Root Mean Squared Error (RMSE): {rmse}\")"
      ],
      "metadata": {
        "colab": {
          "base_uri": "https://localhost:8080/"
        },
        "id": "WCA0LdeILh9o",
        "outputId": "612bd21a-c7ca-4e8c-e3c3-6010c05b4d8c"
      },
      "execution_count": 14,
      "outputs": [
        {
          "output_type": "stream",
          "name": "stdout",
          "text": [
            "Mean Absolute Error (MAE): 0.4600000000000016\n",
            "Mean Squared Error (MSE): 0.24600000000000147\n",
            "Root Mean Squared Error (RMSE): 0.49598387070549127\n"
          ]
        }
      ]
    },
    {
      "cell_type": "code",
      "source": [
        "#2\n",
        "#calculate confusion matrix without predefined modules\n",
        "y_act=[0,0,0,0,0,1,1,1,1,1,2,2,2,2,2]\n",
        "y_pred=[0,0,1,2,2,1,0,2,0,2,0,0,1,2,2]\n",
        "\n",
        "length=len(y_act)\n",
        "\n",
        "confusion_matrix=[[0,0,0,],[0,0,0],[0,0,0]]\n",
        "\n",
        "for i in range(length):\n",
        "  if y_act[i]==0:\n",
        "    if y_pred[i]==0:\n",
        "      confusion_matrix[0][0]+=1\n",
        "    elif y_pred[i]==1:\n",
        "      confusion_matrix[0][1]+=1\n",
        "    else:\n",
        "      confusion_matrix[0][2]+=1\n",
        "  elif y_act[i]==1:\n",
        "    if y_pred[i]==0:\n",
        "      confusion_matrix[1][0]+=1\n",
        "    elif y_pred[i]==1:\n",
        "      confusion_matrix[1][1]+=1\n",
        "    else:\n",
        "      confusion_matrix[1][2]+=1\n",
        "  else:\n",
        "    if y_pred[i]==0:\n",
        "      confusion_matrix[2][0]+=1\n",
        "    elif y_pred[i]==1:\n",
        "      confusion_matrix[2][1]+=1\n",
        "    else:\n",
        "      confusion_matrix[2][2]+=1\n",
        "print(\"confusion matrix:\")\n",
        "for row in confusion_matrix:\n",
        "  print(row)\n",
        "\n",
        "#Accuracy\n",
        "accuracy=confusion_matrix[0][0]+confusion_matrix[1][1]+confusion_matrix[2][2]\n",
        "accuracy=accuracy/length\n",
        "\n",
        "print(f\"Accuracy: {accuracy}\")"
      ],
      "metadata": {
        "colab": {
          "base_uri": "https://localhost:8080/"
        },
        "id": "lgO3SITYLlnu",
        "outputId": "0bc0b517-afd2-4762-d244-04f68f8cc401"
      },
      "execution_count": 13,
      "outputs": [
        {
          "output_type": "stream",
          "name": "stdout",
          "text": [
            "confusion matrix:\n",
            "[2, 1, 2]\n",
            "[2, 1, 2]\n",
            "[2, 1, 2]\n",
            "Accuracy: 0.3333333333333333\n"
          ]
        }
      ]
    },
    {
      "cell_type": "code",
      "source": [
        "y_act=[0,0,0,0,0,1,1,1,1,1,2,2,2,2,2]\n",
        "y_pred=[0,0,1,2,2,1,0,2,0,2,0,0,1,2,2]\n",
        "\n",
        "length=len(y_act)\n",
        "\n",
        "from sklearn.metrics import confusion_matrix,accuracy_score\n",
        "confusion_matrix=confusion_matrix(y_act,y_pred)\n",
        "print(\"confusion matrix:\")\n",
        "print(confusion_matrix)\n",
        "\n",
        "accuracy=accuracy_score(y_act,y_pred)\n",
        "print(f\"Accuracy: {accuracy}\")"
      ],
      "metadata": {
        "colab": {
          "base_uri": "https://localhost:8080/"
        },
        "id": "vt_LXn1PMchm",
        "outputId": "cb6df28c-2f6d-44a4-e1f7-510afb7a0b03"
      },
      "execution_count": 18,
      "outputs": [
        {
          "output_type": "stream",
          "name": "stdout",
          "text": [
            "confusion matrix:\n",
            "[[2 1 2]\n",
            " [2 1 2]\n",
            " [2 1 2]]\n",
            "Accuracy: 0.3333333333333333\n"
          ]
        }
      ]
    }
  ]
}