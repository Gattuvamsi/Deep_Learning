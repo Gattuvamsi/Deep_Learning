{
  "nbformat": 4,
  "nbformat_minor": 0,
  "metadata": {
    "colab": {
      "provenance": [],
      "authorship_tag": "ABX9TyNmbdZ19OJs8cNFTy0cuoUV",
      "include_colab_link": true
    },
    "kernelspec": {
      "name": "python3",
      "display_name": "Python 3"
    },
    "language_info": {
      "name": "python"
    }
  },
  "cells": [
    {
      "cell_type": "markdown",
      "metadata": {
        "id": "view-in-github",
        "colab_type": "text"
      },
      "source": [
        "<a href=\"https://colab.research.google.com/github/Gattuvamsi/Deep_Learning/blob/main/2203A52127_DL_A2.ipynb\" target=\"_parent\"><img src=\"https://colab.research.google.com/assets/colab-badge.svg\" alt=\"Open In Colab\"/></a>"
      ]
    },
    {
      "cell_type": "code",
      "execution_count": 4,
      "metadata": {
        "id": "YAN5dQLQg90m",
        "colab": {
          "base_uri": "https://localhost:8080/"
        },
        "outputId": "8fec9145-cf4b-48a2-f5e9-ef2fccc0096f"
      },
      "outputs": [
        {
          "output_type": "stream",
          "name": "stdout",
          "text": [
            "no. of A chocolates=2.00\n",
            "no. of B chocolates=3.00\n",
            "Maximum profit = Rs. 27.00\n"
          ]
        }
      ],
      "source": [
        "from scipy.optimize import linprog\n",
        "import numpy as np\n",
        "\n",
        "obj = [-6, -5]\n",
        "A = [[1, 1], [3, 2]]\n",
        "b = [5, 12]\n",
        "bnd = [(0, float(\"inf\")), (0, float(\"inf\"))]\n",
        "\n",
        "opt = linprog(c=obj, A_ub=A, b_ub=b, bounds=bnd)\n",
        "chaco = np.round(opt.x)\n",
        "\n",
        "max_profit = 6 * chaco[0] + 5 * chaco[1]\n",
        "\n",
        "print(\"no. of A chocolates=%0.2f\" % chaco[0])\n",
        "print(\"no. of B chocolates=%0.2f\" % chaco[1])\n",
        "print(\"Maximum profit = Rs. %0.2f\" % max_profit)\n",
        "\n"
      ]
    },
    {
      "cell_type": "code",
      "source": [
        "from scipy.optimize import linprog\n",
        "\n",
        "obj = [-50, -120]\n",
        "\n",
        "A = [\n",
        "    [1, 1],\n",
        "    [7000, 2000],\n",
        "    [10, 30]\n",
        "]\n",
        "b = [100, 700000, 1200]\n",
        "\n",
        "\n",
        "bounds = [(0, None), (0, None)]\n",
        "\n",
        "result = linprog(c=obj, A_ub=A, b_ub=b, bounds=bounds, method=\"highs\")\n",
        "\n",
        "if result.success:\n",
        "    x1, x2 = result.x\n",
        "    print(f\"Hectares of wheat: {x1:.2f}\")\n",
        "    print(f\"Hectares of barley: {x2:.2f}\")\n",
        "    print(f\"Maximum profit: Rs. {abs(result.fun):.2f}\")\n",
        "else:\n",
        "    print(\"No solution found.\")\n",
        "\n",
        "\n"
      ],
      "metadata": {
        "colab": {
          "base_uri": "https://localhost:8080/"
        },
        "id": "1xYOLiEzJKg3",
        "outputId": "0f002efc-b7d6-465c-bda7-0120447c8809"
      },
      "execution_count": 5,
      "outputs": [
        {
          "output_type": "stream",
          "name": "stdout",
          "text": [
            "Hectares of wheat: 90.00\n",
            "Hectares of barley: 10.00\n",
            "Maximum profit: Rs. 5700.00\n"
          ]
        }
      ]
    }
  ]
}